{
  "nbformat": 4,
  "nbformat_minor": 0,
  "metadata": {
    "colab": {
      "name": "2_Movie_review_Sentiment_Binary_Classification(14July,2020).ipynb",
      "provenance": [],
      "authorship_tag": "ABX9TyN82q3YdFbAWw6OqXnjoOyJ",
      "include_colab_link": true
    },
    "kernelspec": {
      "name": "python3",
      "display_name": "Python 3"
    }
  },
  "cells": [
    {
      "cell_type": "markdown",
      "metadata": {
        "id": "view-in-github",
        "colab_type": "text"
      },
      "source": [
        "<a href=\"https://colab.research.google.com/github/maulindu8322/tensorflow/blob/master/DL_Projects/2_Movie_review_Sentiment_Binary_Classification(14July%2C2020).ipynb\" target=\"_parent\"><img src=\"https://colab.research.google.com/assets/colab-badge.svg\" alt=\"Open In Colab\"/></a>"
      ]
    },
    {
      "cell_type": "code",
      "metadata": {
        "id": "hHb7VwkL9qxC",
        "colab_type": "code",
        "colab": {}
      },
      "source": [
        "import tensorflow as tf\n",
        "import numpy as np\n",
        "import matplotlib.pyplot as plt"
      ],
      "execution_count": 72,
      "outputs": []
    },
    {
      "cell_type": "code",
      "metadata": {
        "id": "3sckeBID-Arw",
        "colab_type": "code",
        "colab": {}
      },
      "source": [
        "from tensorflow import keras"
      ],
      "execution_count": 73,
      "outputs": []
    },
    {
      "cell_type": "code",
      "metadata": {
        "id": "l8MrFUw4-FPW",
        "colab_type": "code",
        "colab": {}
      },
      "source": [
        "from keras.datasets import imdb"
      ],
      "execution_count": 74,
      "outputs": []
    },
    {
      "cell_type": "code",
      "metadata": {
        "id": "Btu_6PgY-JXk",
        "colab_type": "code",
        "colab": {}
      },
      "source": [
        "(train_data,train_labels),(test_data,test_labels) = imdb.load_data(num_words=10000)"
      ],
      "execution_count": 75,
      "outputs": []
    },
    {
      "cell_type": "code",
      "metadata": {
        "id": "QAxJ89x9-wzE",
        "colab_type": "code",
        "colab": {}
      },
      "source": [
        "max(max(i) for i in train_data)"
      ],
      "execution_count": null,
      "outputs": []
    },
    {
      "cell_type": "code",
      "metadata": {
        "id": "LNGWQKun-Vv9",
        "colab_type": "code",
        "colab": {}
      },
      "source": [
        "word_index = imdb.get_word_index()\n",
        "reverse_word_index = dict(\n",
        "    [(val,key) for (key,val) in word_index.items()]\n",
        ")"
      ],
      "execution_count": null,
      "outputs": []
    },
    {
      "cell_type": "code",
      "metadata": {
        "id": "z6GhsEoR15kW",
        "colab_type": "code",
        "colab": {}
      },
      "source": [
        "x = 8322\n",
        "original_review = train_data[x]\n",
        "\n",
        "decoded_review = ' '.join(\n",
        "    [reverse_word_index.get(i-3,'?') for i in original_review]\n",
        ")\n",
        "\n",
        "print(decoded_review)"
      ],
      "execution_count": null,
      "outputs": []
    },
    {
      "cell_type": "code",
      "metadata": {
        "id": "WmAAkUYy1wH_",
        "colab_type": "code",
        "colab": {}
      },
      "source": [
        "original_label = train_labels[x]\n",
        "\n",
        "if original_label == 1 :\n",
        "  rev = 'Positive Review'\n",
        "elif original_label == 0 :\n",
        "  rev = 'Negetive Review'\n",
        "\n",
        "print('This is actually : ',rev)"
      ],
      "execution_count": null,
      "outputs": []
    },
    {
      "cell_type": "markdown",
      "metadata": {
        "id": "ge9sOVfFLFKs",
        "colab_type": "text"
      },
      "source": [
        "#### Vectorize training data\n",
        "\n",
        "One-hot encode your lists to turn them into vectors of 0s and 1s. This would\n",
        "mean, for instance, turning the sequence [3, 5] into a 10,000-dimensional vector that would be all 0s except for indices 3 and 5, which would be 1s. Then you\n",
        "could use as the first layer in your network a Dense layer, capable of handling\n",
        "floating-point vector data"
      ]
    },
    {
      "cell_type": "code",
      "metadata": {
        "id": "qe3Wb4ogLQ6j",
        "colab_type": "code",
        "colab": {}
      },
      "source": [
        "def vectorize_data(sequence,dimension=10000) :\n",
        "  result = np.zeros((len(sequence),dimension))\n",
        "  for i,seq in enumerate(sequence) :\n",
        "    result[i, seq] = 1\n",
        "  return result"
      ],
      "execution_count": null,
      "outputs": []
    },
    {
      "cell_type": "code",
      "metadata": {
        "id": "3e7b_bLSL3xq",
        "colab_type": "code",
        "colab": {}
      },
      "source": [
        "x_train = vectorize_data(train_data)\n",
        "x_test = vectorize_data(test_data)"
      ],
      "execution_count": null,
      "outputs": []
    },
    {
      "cell_type": "code",
      "metadata": {
        "id": "o4fwsAulMuk6",
        "colab_type": "code",
        "colab": {}
      },
      "source": [
        "y_train = np.asarray(train_labels).astype('float32')\n",
        "y_test = np.asarray(test_labels).astype('float32')"
      ],
      "execution_count": null,
      "outputs": []
    },
    {
      "cell_type": "code",
      "metadata": {
        "id": "ZN72UJp5V9pG",
        "colab_type": "code",
        "colab": {}
      },
      "source": [
        "network = keras.Sequential([\n",
        "                            keras.layers.Flatten(),\n",
        "                            keras.layers.Dense(16, activation=tf.nn.relu),\n",
        "                            keras.layers.Dense(16, activation=tf.nn.relu),\n",
        "                            keras.layers.Dense(1, activation=tf.nn.sigmoid)\n",
        "])"
      ],
      "execution_count": 71,
      "outputs": []
    },
    {
      "cell_type": "code",
      "metadata": {
        "id": "X75dnjzoWslZ",
        "colab_type": "code",
        "colab": {}
      },
      "source": [
        "network.compile(optimizer=tf.optimizers.RMSprop(learning_rate=0.001), loss=tf.losses.binary_crossentropy, metrics=tf.metrics.binary_accuracy)"
      ],
      "execution_count": 77,
      "outputs": []
    },
    {
      "cell_type": "code",
      "metadata": {
        "id": "zkXmXoEYXKSb",
        "colab_type": "code",
        "colab": {}
      },
      "source": [
        "x_val = x_train[:10000]\n",
        "partial_x_train = x_train[10000:]\n",
        "y_val = y_train[:10000]\n",
        "partial_y_train = y_train[10000:]"
      ],
      "execution_count": null,
      "outputs": []
    },
    {
      "cell_type": "markdown",
      "metadata": {
        "id": "Ipaymoy_eSRS",
        "colab_type": "text"
      },
      "source": [
        "<b>The validation split </b>variable in Keras is a value between [0..1]. Keras proportionally split your training set by the value of the variable. The first set is used for training and the 2nd set for validation after each epoch."
      ]
    },
    {
      "cell_type": "code",
      "metadata": {
        "id": "s6MvvLB9Yf4D",
        "colab_type": "code",
        "colab": {
          "base_uri": "https://localhost:8080/",
          "height": 689
        },
        "outputId": "32082677-cf38-43aa-edb6-5dcade24deda"
      },
      "source": [
        "training_history = network.fit(partial_x_train, partial_y_train, batch_size=512, epochs=20, validation_data=(x_val,y_val))"
      ],
      "execution_count": null,
      "outputs": [
        {
          "output_type": "stream",
          "text": [
            "Epoch 1/20\n",
            "30/30 [==============================] - 2s 68ms/step - loss: 0.4969 - binary_accuracy: 0.7989 - val_loss: 0.3976 - val_binary_accuracy: 0.8589\n",
            "Epoch 2/20\n",
            "30/30 [==============================] - 2s 60ms/step - loss: 0.3166 - binary_accuracy: 0.9023 - val_loss: 0.3227 - val_binary_accuracy: 0.8814\n",
            "Epoch 3/20\n",
            "30/30 [==============================] - 1s 38ms/step - loss: 0.2450 - binary_accuracy: 0.9263 - val_loss: 0.2936 - val_binary_accuracy: 0.8871\n",
            "Epoch 4/20\n",
            "30/30 [==============================] - 2s 61ms/step - loss: 0.2029 - binary_accuracy: 0.9352 - val_loss: 0.2778 - val_binary_accuracy: 0.8905\n",
            "Epoch 5/20\n",
            "30/30 [==============================] - 2s 61ms/step - loss: 0.1721 - binary_accuracy: 0.9488 - val_loss: 0.2773 - val_binary_accuracy: 0.8884\n",
            "Epoch 6/20\n",
            "30/30 [==============================] - 1s 46ms/step - loss: 0.1494 - binary_accuracy: 0.9566 - val_loss: 0.2748 - val_binary_accuracy: 0.8901\n",
            "Epoch 7/20\n",
            "30/30 [==============================] - 1s 39ms/step - loss: 0.1300 - binary_accuracy: 0.9618 - val_loss: 0.2798 - val_binary_accuracy: 0.8874\n",
            "Epoch 8/20\n",
            "30/30 [==============================] - 1s 38ms/step - loss: 0.1139 - binary_accuracy: 0.9680 - val_loss: 0.2907 - val_binary_accuracy: 0.8862\n",
            "Epoch 9/20\n",
            "30/30 [==============================] - 1s 38ms/step - loss: 0.0999 - binary_accuracy: 0.9741 - val_loss: 0.2986 - val_binary_accuracy: 0.8824\n",
            "Epoch 10/20\n",
            "30/30 [==============================] - 1s 38ms/step - loss: 0.0891 - binary_accuracy: 0.9765 - val_loss: 0.3071 - val_binary_accuracy: 0.8825\n",
            "Epoch 11/20\n",
            "30/30 [==============================] - 1s 38ms/step - loss: 0.0782 - binary_accuracy: 0.9807 - val_loss: 0.3196 - val_binary_accuracy: 0.8819\n",
            "Epoch 12/20\n",
            "30/30 [==============================] - 1s 36ms/step - loss: 0.0692 - binary_accuracy: 0.9845 - val_loss: 0.3342 - val_binary_accuracy: 0.8809\n",
            "Epoch 13/20\n",
            "30/30 [==============================] - 1s 36ms/step - loss: 0.0624 - binary_accuracy: 0.9862 - val_loss: 0.3483 - val_binary_accuracy: 0.8791\n",
            "Epoch 14/20\n",
            "30/30 [==============================] - 1s 36ms/step - loss: 0.0544 - binary_accuracy: 0.9891 - val_loss: 0.3785 - val_binary_accuracy: 0.8703\n",
            "Epoch 15/20\n",
            "30/30 [==============================] - 1s 35ms/step - loss: 0.0477 - binary_accuracy: 0.9908 - val_loss: 0.3787 - val_binary_accuracy: 0.8790\n",
            "Epoch 16/20\n",
            "30/30 [==============================] - 1s 35ms/step - loss: 0.0431 - binary_accuracy: 0.9922 - val_loss: 0.3942 - val_binary_accuracy: 0.8760\n",
            "Epoch 17/20\n",
            "30/30 [==============================] - 1s 35ms/step - loss: 0.0375 - binary_accuracy: 0.9938 - val_loss: 0.4119 - val_binary_accuracy: 0.8744\n",
            "Epoch 18/20\n",
            "30/30 [==============================] - 1s 36ms/step - loss: 0.0324 - binary_accuracy: 0.9947 - val_loss: 0.4309 - val_binary_accuracy: 0.8731\n",
            "Epoch 19/20\n",
            "30/30 [==============================] - 1s 35ms/step - loss: 0.0291 - binary_accuracy: 0.9960 - val_loss: 0.4499 - val_binary_accuracy: 0.8734\n",
            "Epoch 20/20\n",
            "30/30 [==============================] - 1s 37ms/step - loss: 0.0251 - binary_accuracy: 0.9972 - val_loss: 0.4797 - val_binary_accuracy: 0.8714\n"
          ],
          "name": "stdout"
        }
      ]
    },
    {
      "cell_type": "markdown",
      "metadata": {
        "id": "HRi2umVRrfmm",
        "colab_type": "text"
      },
      "source": [
        "The call to model.fit() returns a History object. This object has a member history, which is a dictionary containing data about everything that happened during training. "
      ]
    },
    {
      "cell_type": "code",
      "metadata": {
        "id": "Omu3QpKZrPen",
        "colab_type": "code",
        "colab": {
          "base_uri": "https://localhost:8080/",
          "height": 34
        },
        "outputId": "b766f9a7-75f1-4337-846e-b3e0d6991930"
      },
      "source": [
        "history_dict = training_history.history\n",
        "history_dict.keys()"
      ],
      "execution_count": null,
      "outputs": [
        {
          "output_type": "execute_result",
          "data": {
            "text/plain": [
              "dict_keys(['loss', 'binary_accuracy', 'val_loss', 'val_binary_accuracy'])"
            ]
          },
          "metadata": {
            "tags": []
          },
          "execution_count": 19
        }
      ]
    },
    {
      "cell_type": "code",
      "metadata": {
        "id": "c8BPQLGKrdN3",
        "colab_type": "code",
        "colab": {
          "base_uri": "https://localhost:8080/",
          "height": 295
        },
        "outputId": "6d867a90-a323-4fe8-ee16-23506bf36c5f"
      },
      "source": [
        "loss_values = history_dict['loss']\n",
        "validation_loss_values = history_dict['val_loss']\n",
        "plt.plot(loss_values,'bo')\n",
        "plt.plot(validation_loss_values,'b')\n",
        "plt.title('Loss Value Analysis')\n",
        "plt.xlabel('Epoch')\n",
        "plt.ylabel('Loss')\n",
        "plt.legend(['train data', 'validation data'], loc='upper left')\n",
        "plt.show()"
      ],
      "execution_count": null,
      "outputs": [
        {
          "output_type": "display_data",
          "data": {
            "image/png": "[encoded data removed]",
            "text/plain": [
              "<Figure size 432x288 with 1 Axes>"
            ]
          },
          "metadata": {
            "tags": [],
            "needs_background": "light"
          }
        }
      ]
    },
    {
      "cell_type": "code",
      "metadata": {
        "id": "Lw-7tz8wv8wB",
        "colab_type": "code",
        "colab": {
          "base_uri": "https://localhost:8080/",
          "height": 295
        },
        "outputId": "09a6b077-bcfc-4a55-dbe0-4c1c1ec31bd1"
      },
      "source": [
        "binary_accuracy_values = history_dict['binary_accuracy']\n",
        "val_binary_accuracy_values = history_dict['val_binary_accuracy']\n",
        "plt.plot(binary_accuracy_values,'bo')\n",
        "plt.plot(val_binary_accuracy_values,'b')\n",
        "plt.title('Accuracy Value Analysis')\n",
        "plt.xlabel('Epoch')\n",
        "plt.ylabel('Accuracy')\n",
        "plt.legend(['train data', 'validation data'], loc='upper left')\n",
        "plt.show()"
      ],
      "execution_count": null,
      "outputs": [
        {
          "output_type": "display_data",
          "data": {
            "image/png": "[encoded data removed]",
            "text/plain": [
              "<Figure size 432x288 with 1 Axes>"
            ]
          },
          "metadata": {
            "tags": [],
            "needs_background": "light"
          }
        }
      ]
    },
    {
      "cell_type": "markdown",
      "metadata": {
        "id": "stgfGgipx5OI",
        "colab_type": "text"
      },
      "source": [
        "As you can see, the training loss decreases with every epoch, and the training accuracy\n",
        "increases with every epoch. That’s what you would expect when running gradientdescent optimization—the quantity you’re trying to minimize should be less with\n",
        "every iteration. But that isn’t the case for the validation loss and accuracy: they seem to\n",
        "peak at the fourth epoch. This is an example of a\n",
        "model that performs better on the training data isn’t necessarily a model that will do\n",
        "better on data it has never seen before. In precise terms, what you’re seeing is overfitting: after the second epoch, you’re overoptimizing on the training data, and you end\n",
        "up learning representations that are specific to the training data and don’t generalize\n",
        "to data outside of the training set.\n",
        "In this case, to prevent overfitting, you could stop training after three epochs. In\n",
        "general, you can use a range of techniques to mitigate overfitting .\n",
        "\n",
        "Let’s train a new network from scratch for four epochs and then evaluate it on the\n",
        "test data."
      ]
    },
    {
      "cell_type": "code",
      "metadata": {
        "id": "ntt9KyxJyQ-9",
        "colab_type": "code",
        "colab": {
          "base_uri": "https://localhost:8080/",
          "height": 151
        },
        "outputId": "aa731c86-2449-43c6-bbe6-ddc3bf128da9"
      },
      "source": [
        "training_history = network.fit(partial_x_train, partial_y_train, batch_size=512, epochs=4, validation_data=(x_val,y_val))"
      ],
      "execution_count": null,
      "outputs": [
        {
          "output_type": "stream",
          "text": [
            "Epoch 1/4\n",
            "30/30 [==============================] - 1s 38ms/step - loss: 0.0042 - binary_accuracy: 0.9999 - val_loss: 0.7522 - val_binary_accuracy: 0.8621\n",
            "Epoch 2/4\n",
            "30/30 [==============================] - 1s 37ms/step - loss: 0.0036 - binary_accuracy: 0.9999 - val_loss: 0.7719 - val_binary_accuracy: 0.8618\n",
            "Epoch 3/4\n",
            "30/30 [==============================] - 1s 36ms/step - loss: 0.0030 - binary_accuracy: 0.9999 - val_loss: 0.8023 - val_binary_accuracy: 0.8608\n",
            "Epoch 4/4\n",
            "30/30 [==============================] - 1s 39ms/step - loss: 0.0026 - binary_accuracy: 0.9999 - val_loss: 0.8345 - val_binary_accuracy: 0.8576\n"
          ],
          "name": "stdout"
        }
      ]
    },
    {
      "cell_type": "code",
      "metadata": {
        "id": "if9OxQN_zLR0",
        "colab_type": "code",
        "colab": {
          "base_uri": "https://localhost:8080/",
          "height": 34
        },
        "outputId": "0af5e2b5-9750-4442-d28a-90c52f7e0aca"
      },
      "source": [
        "history_dict = training_history.history\n",
        "history_dict.keys()"
      ],
      "execution_count": null,
      "outputs": [
        {
          "output_type": "execute_result",
          "data": {
            "text/plain": [
              "dict_keys(['loss', 'binary_accuracy', 'val_loss', 'val_binary_accuracy'])"
            ]
          },
          "metadata": {
            "tags": []
          },
          "execution_count": 36
        }
      ]
    },
    {
      "cell_type": "code",
      "metadata": {
        "id": "H69tl6lSy0n1",
        "colab_type": "code",
        "colab": {
          "base_uri": "https://localhost:8080/",
          "height": 295
        },
        "outputId": "ee54469e-5cde-4008-f5a3-9f33f15dd116"
      },
      "source": [
        "loss_values = history_dict['loss']\n",
        "validation_loss_values = history_dict['val_loss']\n",
        "plt.plot(loss_values,'bo')\n",
        "plt.plot(validation_loss_values,'b')\n",
        "plt.title('Loss Value Analysis')\n",
        "plt.xlabel('Epoch')\n",
        "plt.ylabel('Loss')\n",
        "plt.legend(['train data', 'validation data'], loc='upper left')\n",
        "plt.show()"
      ],
      "execution_count": null,
      "outputs": [
        {
          "output_type": "display_data",
          "data": {
            "image/png": "[encoded data removed]",
            "text/plain": [
              "<Figure size 432x288 with 1 Axes>"
            ]
          },
          "metadata": {
            "tags": [],
            "needs_background": "light"
          }
        }
      ]
    },
    {
      "cell_type": "code",
      "metadata": {
        "id": "lji00sm-zSGV",
        "colab_type": "code",
        "colab": {
          "base_uri": "https://localhost:8080/",
          "height": 295
        },
        "outputId": "87f82870-c05b-412a-fa2a-5dcacf6734d4"
      },
      "source": [
        "binary_accuracy_values = history_dict['binary_accuracy']\n",
        "val_binary_accuracy_values = history_dict['val_binary_accuracy']\n",
        "plt.plot(binary_accuracy_values,'bo')\n",
        "plt.plot(val_binary_accuracy_values,'b')\n",
        "plt.title('Accuracy Value Analysis')\n",
        "plt.xlabel('Epoch')\n",
        "plt.ylabel('Accuracy')\n",
        "plt.legend(['train data', 'validation data'], loc='upper left')\n",
        "plt.show()"
      ],
      "execution_count": null,
      "outputs": [
        {
          "output_type": "display_data",
          "data": {
            "image/png": "[encoded data removed]",
            "text/plain": [
              "<Figure size 432x288 with 1 Axes>"
            ]
          },
          "metadata": {
            "tags": [],
            "needs_background": "light"
          }
        }
      ]
    },
    {
      "cell_type": "markdown",
      "metadata": {
        "id": "ywmoEU7JzZPW",
        "colab_type": "text"
      },
      "source": [
        "So now we are confident about getting an appropriate result by using 4 epochs, in this case . Now we will train this network for the whole training set, now no need of validation sets, and the above process is just for illustration, only the loss and accuracy analysis for once is enough."
      ]
    },
    {
      "cell_type": "code",
      "metadata": {
        "id": "ej_uisXrz3p8",
        "colab_type": "code",
        "colab": {
          "base_uri": "https://localhost:8080/",
          "height": 168
        },
        "outputId": "09677d19-caea-4367-de98-24fb10bd7aa1"
      },
      "source": [
        "network.fit(x_train, y_train, batch_size=512, epochs=4)"
      ],
      "execution_count": 78,
      "outputs": [
        {
          "output_type": "stream",
          "text": [
            "Epoch 1/4\n",
            "49/49 [==============================] - 1s 24ms/step - loss: 0.4434 - binary_accuracy: 0.8198\n",
            "Epoch 2/4\n",
            "49/49 [==============================] - 1s 24ms/step - loss: 0.2531 - binary_accuracy: 0.9106\n",
            "Epoch 3/4\n",
            "49/49 [==============================] - 1s 24ms/step - loss: 0.1973 - binary_accuracy: 0.9276\n",
            "Epoch 4/4\n",
            "49/49 [==============================] - 1s 24ms/step - loss: 0.1641 - binary_accuracy: 0.9419\n"
          ],
          "name": "stdout"
        },
        {
          "output_type": "execute_result",
          "data": {
            "text/plain": [
              "<tensorflow.python.keras.callbacks.History at 0x7fc021933a20>"
            ]
          },
          "metadata": {
            "tags": []
          },
          "execution_count": 78
        }
      ]
    },
    {
      "cell_type": "code",
      "metadata": {
        "id": "gPtJ28j60HvE",
        "colab_type": "code",
        "colab": {
          "base_uri": "https://localhost:8080/",
          "height": 34
        },
        "outputId": "33284895-6a31-4e2c-992f-5ee7190af4e5"
      },
      "source": [
        "test_evaluation = network.evaluate(x_test,y_test)"
      ],
      "execution_count": 79,
      "outputs": [
        {
          "output_type": "stream",
          "text": [
            "782/782 [==============================] - 1s 2ms/step - loss: 0.2960 - binary_accuracy: 0.8842\n"
          ],
          "name": "stdout"
        }
      ]
    },
    {
      "cell_type": "code",
      "metadata": {
        "id": "yVZSLnVA0VSN",
        "colab_type": "code",
        "colab": {
          "base_uri": "https://localhost:8080/",
          "height": 34
        },
        "outputId": "4dbc0073-ffd2-42f6-f0d1-4dd664cc2036"
      },
      "source": [
        "test_evaluation"
      ],
      "execution_count": 80,
      "outputs": [
        {
          "output_type": "execute_result",
          "data": {
            "text/plain": [
              "[0.2959746718406677, 0.8841999769210815]"
            ]
          },
          "metadata": {
            "tags": []
          },
          "execution_count": 80
        }
      ]
    },
    {
      "cell_type": "markdown",
      "metadata": {
        "id": "8T2lSp4l0ezM",
        "colab_type": "text"
      },
      "source": [
        "This fairly naive approach achieves an accuracy of 88%. With state-of-the-art\n",
        "approaches, you should be able to get close to 95%"
      ]
    },
    {
      "cell_type": "code",
      "metadata": {
        "id": "jroo3hXv0fuk",
        "colab_type": "code",
        "colab": {}
      },
      "source": [
        "prediction = network.predict(x_test)"
      ],
      "execution_count": 81,
      "outputs": []
    },
    {
      "cell_type": "code",
      "metadata": {
        "id": "S44Gy-u41Sj2",
        "colab_type": "code",
        "colab": {
          "base_uri": "https://localhost:8080/",
          "height": 54
        },
        "outputId": "408c16ef-a6d9-4fa1-8d4c-f38d2f816137"
      },
      "source": [
        "k = 0\n",
        "original_test_review = test_data[k]\n",
        "\n",
        "decoded_test_review = ' '.join(\n",
        "    [reverse_word_index.get(i-3,'?') for i in original_test_review]\n",
        ")\n",
        "\n",
        "print(decoded_test_review)"
      ],
      "execution_count": 85,
      "outputs": [
        {
          "output_type": "stream",
          "text": [
            "? please give this one a miss br br ? ? and the rest of the cast rendered terrible performances the show is flat flat flat br br i don't know how michael madison could have allowed this one on his plate he almost seemed to know this wasn't going to work out and his performance was quite ? so all you madison fans give this a miss\n"
          ],
          "name": "stdout"
        }
      ]
    },
    {
      "cell_type": "code",
      "metadata": {
        "id": "Jr1y3hnk1Z7l",
        "colab_type": "code",
        "colab": {
          "base_uri": "https://localhost:8080/",
          "height": 34
        },
        "outputId": "ce043e2d-bdc1-4917-d0d9-9c8faf13dc2c"
      },
      "source": [
        "original_test_label = test_labels[k]\n",
        "\n",
        "if original_test_label == 1 :\n",
        "  r = 'Positive Review'\n",
        "elif original_test_label == 0 :\n",
        "  r = 'Negetive Review'\n",
        "\n",
        "print('This test label is actually : ',r)"
      ],
      "execution_count": 86,
      "outputs": [
        {
          "output_type": "stream",
          "text": [
            "This test label is actually :  Negetive Review\n"
          ],
          "name": "stdout"
        }
      ]
    },
    {
      "cell_type": "code",
      "metadata": {
        "id": "Uz2-G_Pu1b9W",
        "colab_type": "code",
        "colab": {
          "base_uri": "https://localhost:8080/",
          "height": 34
        },
        "outputId": "ed35acb9-cc0b-43d2-ee78-2bfa33621dcf"
      },
      "source": [
        "predicted_test_label = np.argmax(prediction[k])\n",
        "if predicted_test_label == 1 :\n",
        "  revtest = 'Positive Review'\n",
        "elif predicted_test_label == 0 :\n",
        "  revtest = 'Negetive Review'\n",
        "\n",
        "print('I predict this is a : ',revtest)"
      ],
      "execution_count": 87,
      "outputs": [
        {
          "output_type": "stream",
          "text": [
            "I predict this is a :  Negetive Review\n"
          ],
          "name": "stdout"
        }
      ]
    }
  ]
}